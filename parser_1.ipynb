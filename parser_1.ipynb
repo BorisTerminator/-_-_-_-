{
 "cells": [
  {
   "cell_type": "code",
   "execution_count": null,
   "id": "657789ff",
   "metadata": {},
   "outputs": [],
   "source": [
    "import json\n",
    "import requests\n",
    "from bs4 import BeautifulSoup\n",
    "\n",
    "url_1 = 'https://abit.itmo.ru/program/master/ai'\n",
    "url_2 = 'https://abit.itmo.ru/program/master/ai_product'\n",
    "\n",
    "urls = {\n",
    "    \"Искусственный интеллект\": url_1,\n",
    "    \"Управление ИИ-продуктами\": url_2\n",
    "}\n",
    "\n",
    "headers = {'User-Agent': 'Mozilla/5.0'}\n",
    "\n",
    "for name, url in urls.items():\n",
    "    try:\n",
    "        # Получаем данные\n",
    "        response = requests.get(url, headers=headers)\n",
    "        response.raise_for_status()\n",
    "        soup = BeautifulSoup(response.text, 'html.parser')\n",
    "\n",
    "        # Собираем информацию о программах\n",
    "        programs = {\n",
    "            item.find('h5', class_='Directions_table__name__CklG5').text: ', '.join(\n",
    "                f\"{place.find('span').text} {place.find('p').text.lower()}\"\n",
    "                for place in item.find_all('div', class_='Directions_table__places__RWYBT')\n",
    "            )\n",
    "            for item in soup.find_all('div', class_='Directions_table__item__206L0')\n",
    "        }\n",
    "\n",
    "        # Собираем остальные данные\n",
    "        data = {\n",
    "            'Реализуемые программы': programs,\n",
    "            'Описание программы': soup.find('div', class_='AboutProgram_aboutProgram__textWrapper___j1KQ').text.strip(),\n",
    "            'Карьера': soup.find('div', class_='Career_career__container___st5X').text.strip(),\n",
    "            'Вопросы и ответы': {\n",
    "                q.get_text(strip=True): a.get_text(strip=True)\n",
    "                for q, a in zip(\n",
    "                    soup.find_all('div', class_='Accordion_accordion__title__tSP_0'),\n",
    "                    soup.find_all('div', class_='Accordion_accordion__item__A6W5t')\n",
    "                )\n",
    "            }\n",
    "        }\n",
    "\n",
    "        # Сохраняем в JSON\n",
    "        filename = f\"{name}.json\"\n",
    "        with open(filename, 'w', encoding='utf-8') as f:\n",
    "            json.dump(data, f, ensure_ascii=False, indent=4)\n",
    "        \n",
    "        print(f\"Данные успешно сохранены в файл {filename}\")\n",
    "\n",
    "    except Exception as e:\n",
    "        print(f\"Ошибка при обработке {name}: {str(e)}\")"
   ]
  }
 ],
 "metadata": {
  "kernelspec": {
   "display_name": "Python 3",
   "language": "python",
   "name": "python3"
  },
  "language_info": {
   "codemirror_mode": {
    "name": "ipython",
    "version": 3
   },
   "file_extension": ".py",
   "mimetype": "text/x-python",
   "name": "python",
   "nbconvert_exporter": "python",
   "pygments_lexer": "ipython3",
   "version": "3.9.9"
  }
 },
 "nbformat": 4,
 "nbformat_minor": 5
}
