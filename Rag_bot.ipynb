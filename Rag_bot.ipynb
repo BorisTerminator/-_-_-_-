{
 "cells": [
  {
   "cell_type": "markdown",
   "id": "00af70d6",
   "metadata": {},
   "source": [
    "# 1. Парсинг PDF и обновление JSON файлов"
   ]
  },
  {
   "cell_type": "code",
   "execution_count": 2,
   "id": "3aba547b",
   "metadata": {},
   "outputs": [],
   "source": [
    "import json\n",
    "import PyPDF2\n",
    "from pathlib import Path\n",
    "\n",
    "def parse_pdf_and_update_json(pdf_path, json_path):\n",
    "    # Парсим PDF\n",
    "    pdf_text = \"\"\n",
    "    with open(pdf_path, 'rb') as pdf_file:\n",
    "        reader = PyPDF2.PdfReader(pdf_file)\n",
    "        for page in reader.pages:\n",
    "            pdf_text += page.extract_text() + \"\\n\"\n",
    "    \n",
    "    # Обновляем JSON\n",
    "    with open(json_path, 'r+', encoding='utf-8') as json_file:\n",
    "        data = json.load(json_file)\n",
    "        data['Учебный_план'] = pdf_text\n",
    "        json_file.seek(0)\n",
    "        json.dump(data, json_file, ensure_ascii=False, indent=4)\n",
    "        json_file.truncate()\n",
    "\n",
    "# Обрабатываем оба файла\n",
    "parse_pdf_and_update_json('AI Product.pdf', 'Управление ИИ-продуктами.json')\n",
    "parse_pdf_and_update_json('Искусственный интеллект.pdf', 'Искусственный интеллект.json')"
   ]
  },
  {
   "cell_type": "markdown",
   "id": "5475fc18",
   "metadata": {},
   "source": [
    "# 2. Создание векторной базы данных FAISS"
   ]
  },
  {
   "cell_type": "code",
   "execution_count": 2,
   "id": "3f14f432",
   "metadata": {},
   "outputs": [
    {
     "name": "stderr",
     "output_type": "stream",
     "text": [
      "C:\\Users\\razum\\AppData\\Local\\Temp\\ipykernel_21352\\168187333.py:26: LangChainDeprecationWarning: The class `HuggingFaceEmbeddings` was deprecated in LangChain 0.2.2 and will be removed in 1.0. An updated version of the class exists in the :class:`~langchain-huggingface package and should be used instead. To use it run `pip install -U :class:`~langchain-huggingface` and import as `from :class:`~langchain_huggingface import HuggingFaceEmbeddings``.\n",
      "  embeddings = HuggingFaceEmbeddings(model_name=\"cointegrated/LaBSE-en-ru\")\n"
     ]
    },
    {
     "data": {
      "application/vnd.jupyter.widget-view+json": {
       "model_id": "9020bd02f06f4f4ca19bdf20642ff843",
       "version_major": 2,
       "version_minor": 0
      },
      "text/plain": [
       "modules.json:   0%|          | 0.00/461 [00:00<?, ?B/s]"
      ]
     },
     "metadata": {},
     "output_type": "display_data"
    },
    {
     "name": "stderr",
     "output_type": "stream",
     "text": [
      "c:\\Users\\razum\\AppData\\Local\\Programs\\Python\\Python39\\lib\\site-packages\\huggingface_hub\\file_download.py:142: UserWarning: `huggingface_hub` cache-system uses symlinks by default to efficiently store duplicated files but your machine does not support them in C:\\Users\\razum\\.cache\\huggingface\\hub\\models--cointegrated--LaBSE-en-ru. Caching files will still work but in a degraded version that might require more space on your disk. This warning can be disabled by setting the `HF_HUB_DISABLE_SYMLINKS_WARNING` environment variable. For more details, see https://huggingface.co/docs/huggingface_hub/how-to-cache#limitations.\n",
      "To support symlinks on Windows, you either need to activate Developer Mode or to run Python as an administrator. In order to activate developer mode, see this article: https://docs.microsoft.com/en-us/windows/apps/get-started/enable-your-device-for-development\n",
      "  warnings.warn(message)\n"
     ]
    },
    {
     "data": {
      "application/vnd.jupyter.widget-view+json": {
       "model_id": "ca96a86183644f2aa37f5be9b1e967ea",
       "version_major": 2,
       "version_minor": 0
      },
      "text/plain": [
       "README.md: 0.00B [00:00, ?B/s]"
      ]
     },
     "metadata": {},
     "output_type": "display_data"
    },
    {
     "data": {
      "application/vnd.jupyter.widget-view+json": {
       "model_id": "acb3e14179454fb69fe64973c455dcf0",
       "version_major": 2,
       "version_minor": 0
      },
      "text/plain": [
       "sentence_bert_config.json:   0%|          | 0.00/53.0 [00:00<?, ?B/s]"
      ]
     },
     "metadata": {},
     "output_type": "display_data"
    },
    {
     "name": "stderr",
     "output_type": "stream",
     "text": [
      "c:\\Users\\razum\\AppData\\Local\\Programs\\Python\\Python39\\lib\\site-packages\\huggingface_hub\\file_download.py:797: FutureWarning: `resume_download` is deprecated and will be removed in version 1.0.0. Downloads always resume when possible. If you want to force a new download, use `force_download=True`.\n",
      "  warnings.warn(\n"
     ]
    },
    {
     "data": {
      "application/vnd.jupyter.widget-view+json": {
       "model_id": "d6d7db311d444417b134da7433e04c96",
       "version_major": 2,
       "version_minor": 0
      },
      "text/plain": [
       "config.json:   0%|          | 0.00/806 [00:00<?, ?B/s]"
      ]
     },
     "metadata": {},
     "output_type": "display_data"
    },
    {
     "data": {
      "application/vnd.jupyter.widget-view+json": {
       "model_id": "99f3fd8a31894a03b57e9f2e1d10e24c",
       "version_major": 2,
       "version_minor": 0
      },
      "text/plain": [
       "model.safetensors:   0%|          | 0.00/516M [00:00<?, ?B/s]"
      ]
     },
     "metadata": {},
     "output_type": "display_data"
    },
    {
     "data": {
      "application/vnd.jupyter.widget-view+json": {
       "model_id": "4d52d18ae7154f48bbcbfb92267cda13",
       "version_major": 2,
       "version_minor": 0
      },
      "text/plain": [
       "tokenizer_config.json:   0%|          | 0.00/49.0 [00:00<?, ?B/s]"
      ]
     },
     "metadata": {},
     "output_type": "display_data"
    },
    {
     "data": {
      "application/vnd.jupyter.widget-view+json": {
       "model_id": "434f37a38ea3461882ebec54bcafd0fe",
       "version_major": 2,
       "version_minor": 0
      },
      "text/plain": [
       "vocab.txt: 0.00B [00:00, ?B/s]"
      ]
     },
     "metadata": {},
     "output_type": "display_data"
    },
    {
     "data": {
      "application/vnd.jupyter.widget-view+json": {
       "model_id": "5961d3eff5f44d1d853fe95c3423c683",
       "version_major": 2,
       "version_minor": 0
      },
      "text/plain": [
       "special_tokens_map.json:   0%|          | 0.00/112 [00:00<?, ?B/s]"
      ]
     },
     "metadata": {},
     "output_type": "display_data"
    },
    {
     "data": {
      "application/vnd.jupyter.widget-view+json": {
       "model_id": "d914371244544966aa8de28618db29e7",
       "version_major": 2,
       "version_minor": 0
      },
      "text/plain": [
       "config.json:   0%|          | 0.00/190 [00:00<?, ?B/s]"
      ]
     },
     "metadata": {},
     "output_type": "display_data"
    },
    {
     "data": {
      "application/vnd.jupyter.widget-view+json": {
       "model_id": "84f8e55ec5264587bc7117fcd15b91e4",
       "version_major": 2,
       "version_minor": 0
      },
      "text/plain": [
       "config.json:   0%|          | 0.00/114 [00:00<?, ?B/s]"
      ]
     },
     "metadata": {},
     "output_type": "display_data"
    },
    {
     "data": {
      "application/vnd.jupyter.widget-view+json": {
       "model_id": "3c354d5ec44c4fe08b3d655b4fa18d27",
       "version_major": 2,
       "version_minor": 0
      },
      "text/plain": [
       "pytorch_model.bin:   0%|          | 0.00/2.36M [00:00<?, ?B/s]"
      ]
     },
     "metadata": {},
     "output_type": "display_data"
    }
   ],
   "source": [
    "from langchain_community.document_loaders import JSONLoader\n",
    "from langchain.text_splitter import RecursiveCharacterTextSplitter\n",
    "from langchain_community.embeddings import HuggingFaceEmbeddings\n",
    "from langchain_community.vectorstores import FAISS\n",
    "import os\n",
    "\n",
    "def create_faiss_index():\n",
    "    # Загружаем оба JSON файла\n",
    "    docs = []\n",
    "    for json_file in ['Искусственный интеллект.json', 'Управление ИИ-продуктами.json']:\n",
    "        loader = JSONLoader(\n",
    "            file_path=json_file,\n",
    "            jq_schema='. | to_entries[] | {type: .key, content: .value}',\n",
    "            text_content=False\n",
    "        )\n",
    "        docs.extend(loader.load())\n",
    "    \n",
    "    # Разбиваем текст на чанки\n",
    "    text_splitter = RecursiveCharacterTextSplitter(\n",
    "        chunk_size=1000,\n",
    "        chunk_overlap=200\n",
    "    )\n",
    "    splits = text_splitter.split_documents(docs)\n",
    "    \n",
    "    # Создаем эмбеддинги и FAISS индекс\n",
    "    embeddings = HuggingFaceEmbeddings(model_name=\"cointegrated/LaBSE-en-ru\")\n",
    "    vectorstore = FAISS.from_documents(splits, embeddings)\n",
    "    vectorstore.save_local(\"faiss_db\")\n",
    "\n",
    "create_faiss_index()"
   ]
  },
  {
   "cell_type": "markdown",
   "id": "999f25a3",
   "metadata": {},
   "source": [
    "# 3. Чат-бот с RAG на LangChain"
   ]
  },
  {
   "cell_type": "code",
   "execution_count": 5,
   "id": "f57bd8f8",
   "metadata": {},
   "outputs": [
    {
     "name": "stderr",
     "output_type": "stream",
     "text": [
      "C:\\Users\\razum\\AppData\\Local\\Temp\\ipykernel_21352\\1729200064.py:18: LangChainDeprecationWarning: The class `Ollama` was deprecated in LangChain 0.3.1 and will be removed in 1.0.0. An updated version of the class exists in the :class:`~langchain-ollama package and should be used instead. To use it run `pip install -U :class:`~langchain-ollama` and import as `from :class:`~langchain_ollama import OllamaLLM``.\n",
      "  self.llm = Ollama(model=\"hermes3:latest\", temperature=0.3)\n",
      "C:\\Users\\razum\\AppData\\Local\\Temp\\ipykernel_21352\\1729200064.py:45: LangChainDeprecationWarning: The method `Chain.__call__` was deprecated in langchain 0.1.0 and will be removed in 1.0. Use :meth:`~invoke` instead.\n",
      "  result = self.qa_chain({\"query\": question})\n"
     ]
    },
    {
     "name": "stdout",
     "output_type": "stream",
     "text": [
      "Ответ: В соответствии с предоставленными данными, программа в области искусственного интеллекта предлагает следующие карьерные возможности:\n",
      "\n",
      "- От 150 до 400+ различных ролей в разных проектах на разных уровнях (стажер, младший, средний и старший специалист).\n",
      "\n",
      "- Работу в таких областях как Middle: AI Product Manager - AI Project Manager - AI Product Data Analyst / AI Analyst - AI Product Lead.\n",
      "\n",
      "Таким образом, программа предоставляет широкий спектр возможностей для развития карьеры в области искусственного интеллекта на разных позициях и уровнях.\n",
      "Источники: ['C:\\\\Data\\\\Visual Studio\\\\Машинка практика\\\\Экзамен\\\\Управление ИИ-продуктами.json', 'C:\\\\Data\\\\Visual Studio\\\\Машинка практика\\\\Экзамен\\\\Управление ИИ-продуктами.json', 'C:\\\\Data\\\\Visual Studio\\\\Машинка практика\\\\Экзамен\\\\Искусственный интеллект.json', 'C:\\\\Data\\\\Visual Studio\\\\Машинка практика\\\\Экзамен\\\\Управление ИИ-продуктами.json']\n"
     ]
    }
   ],
   "source": [
    "from langchain_community.llms import Ollama\n",
    "from langchain.chains import RetrievalQA\n",
    "from langchain_community.vectorstores import FAISS\n",
    "from langchain_community.embeddings import HuggingFaceEmbeddings\n",
    "from langchain.prompts import PromptTemplate\n",
    "\n",
    "class EduChatBot:\n",
    "    def __init__(self):\n",
    "        # Загружаем векторное хранилище с разрешением опасной десериализации\n",
    "        self.embeddings = HuggingFaceEmbeddings(model_name=\"cointegrated/LaBSE-en-ru\")\n",
    "        self.vectorstore = FAISS.load_local(\n",
    "            \"faiss_db\", \n",
    "            self.embeddings,\n",
    "            allow_dangerous_deserialization=True  # Добавляем этот параметр\n",
    "        )\n",
    "        \n",
    "        # Инициализируем локальную LLM (Ollama)\n",
    "        self.llm = Ollama(model=\"hermes3:latest\", temperature=0.3)\n",
    "        \n",
    "        # Настраиваем промпт\n",
    "        self.prompt_template = \"\"\"Используй следующие фрагменты информации для ответа на вопрос.\n",
    "        Если не знаешь ответа, просто скажи что не знаешь, не пытайся придумать ответ.\n",
    "        \n",
    "        Контекст: {context}\n",
    "        \n",
    "        Вопрос: {question}\n",
    "        \n",
    "        Полезный ответ:\"\"\"\n",
    "        \n",
    "        self.PROMPT = PromptTemplate(\n",
    "            template=self.prompt_template,\n",
    "            input_variables=[\"context\", \"question\"]\n",
    "        )\n",
    "        \n",
    "        # Создаем цепочку\n",
    "        self.qa_chain = RetrievalQA.from_chain_type(\n",
    "            llm=self.llm,\n",
    "            chain_type=\"stuff\",\n",
    "            retriever=self.vectorstore.as_retriever(),\n",
    "            chain_type_kwargs={\"prompt\": self.PROMPT},\n",
    "            return_source_documents=True\n",
    "        )\n",
    "    \n",
    "    def ask(self, question):\n",
    "        result = self.qa_chain({\"query\": question})\n",
    "        return {\n",
    "            \"answer\": result[\"result\"],\n",
    "            \"sources\": [doc.metadata[\"source\"] for doc in result[\"source_documents\"]]\n",
    "        }\n",
    "\n",
    "# Инициализация и использование бота\n",
    "bot = EduChatBot()\n",
    "response = bot.ask(\"Какие карьерные возможности у программы Искусственный интеллект?\")\n",
    "print(\"Ответ:\", response[\"answer\"])\n",
    "print(\"Источники:\", response[\"sources\"])"
   ]
  },
  {
   "cell_type": "code",
   "execution_count": 6,
   "id": "04d732af",
   "metadata": {},
   "outputs": [
    {
     "name": "stdout",
     "output_type": "stream",
     "text": [
      "Ответ: Согласно предоставленным данным, для поступления на программу \"Искусственный интеллект\" требуется:\n",
      "\n",
      "1. Математические и административные навыки и знания информационных технологий: 14 быдежтных, 0 целевой, 50 контрактных.\n",
      "\n",
      "2. Информатическая и вычислительная техника и информация, связанная с системами: 51 быдежтное, 4 целевое, 55 контрактное место.\n",
      "\n",
      "3. Информационные технологии и коммуникативность в сфере теннелогий и систем, а также системы связи: 80 быдежтных, 5 целевых, 25 контрактных мест.\n",
      "\n",
      "Также указано, что на программу \"Искусственный интеллект\" принимаются AI-продуктты и технологии, поэтому для поступления важно иметь глубокое знание в сфере искусственного интеллекта.\n",
      "Источники: ['C:\\\\Data\\\\Visual Studio\\\\Машинка практика\\\\Экзамен\\\\Управление ИИ-продуктами.json', 'C:\\\\Data\\\\Visual Studio\\\\Машинка практика\\\\Экзамен\\\\Управление ИИ-продуктами.json', 'C:\\\\Data\\\\Visual Studio\\\\Машинка практика\\\\Экзамен\\\\Искусственный интеллект.json', 'C:\\\\Data\\\\Visual Studio\\\\Машинка практика\\\\Экзамен\\\\Управление ИИ-продуктами.json']\n"
     ]
    }
   ],
   "source": [
    "response = bot.ask(\"Как можно поступить на программу Искусственный интеллект?\")\n",
    "print(\"Ответ:\", response[\"answer\"])\n",
    "print(\"Источники:\", response[\"sources\"])"
   ]
  },
  {
   "cell_type": "code",
   "execution_count": 8,
   "id": "95275b5f",
   "metadata": {},
   "outputs": [
    {
     "name": "stdout",
     "output_type": "stream",
     "text": [
      "Ответ: Да, олимпиада \"Я-профессионал\" проводится. Она является реализацией проектов по всестороннему развитию технических и математических навыков и интересов школьников в разных возрастных группах.\n",
      "\n",
      "Олимпиада состоит из нескольких этапов:\n",
      "1) Математические и технические олимпиады для учащихся 7-9 классов\n",
      "2) Информатика и программирование для учащихся 10-11 классов \n",
      "3) Информатика, программирование и телекоммуникации для учащихся 10-11 классов\n",
      "\n",
      "В 2021 году на математических и технических олимпиадах приняло участие 14 тысяч, на информатики и программирования - 51 тысяча школьников. В целом по всем этапам было заявлено 80 тысяч участников, из которых 5 тысяч были девочками, а 25 тысяч - мальчиками.\n",
      "Источники: ['C:\\\\Data\\\\Visual Studio\\\\Машинка практика\\\\Экзамен\\\\Управление ИИ-продуктами.json', 'C:\\\\Data\\\\Visual Studio\\\\Машинка практика\\\\Экзамен\\\\Искусственный интеллект.json', 'C:\\\\Data\\\\Visual Studio\\\\Машинка практика\\\\Экзамен\\\\Управление ИИ-продуктами.json', 'C:\\\\Data\\\\Visual Studio\\\\Машинка практика\\\\Экзамен\\\\Искусственный интеллект.json']\n"
     ]
    }
   ],
   "source": [
    "response = bot.ask(\"Принимаеться ли олимпиада «Я-профессионал»?\")\n",
    "print(\"Ответ:\", response[\"answer\"])\n",
    "print(\"Источники:\", response[\"sources\"])"
   ]
  },
  {
   "cell_type": "code",
   "execution_count": 10,
   "id": "8f5e36ff",
   "metadata": {},
   "outputs": [
    {
     "name": "stdout",
     "output_type": "stream",
     "text": [
      "Ответ: Да, вы можете использовать льготы студентов очной формы обучения. Согласно предоставленным данным, в информатике и вячислителнии системах обучение получают 80 буджетов, 5 целевая, 25 контрактных мест. Таким образом, вы можете воспользоваться льготами студентов очной формы обучения для получения образования в указанных направлениях и системах.\n",
      "Источники: ['C:\\\\Data\\\\Visual Studio\\\\Машинка практика\\\\Экзамен\\\\Управление ИИ-продуктами.json', 'C:\\\\Data\\\\Visual Studio\\\\Машинка практика\\\\Экзамен\\\\Искусственный интеллект.json', 'C:\\\\Data\\\\Visual Studio\\\\Машинка практика\\\\Экзамен\\\\Управление ИИ-продуктами.json', 'C:\\\\Data\\\\Visual Studio\\\\Машинка практика\\\\Экзамен\\\\Искусственный интеллект.json']\n"
     ]
    }
   ],
   "source": [
    "response = bot.ask(\"Смогу ли я пользоваться льготами студентов очной формы обучения?\")\n",
    "print(\"Ответ:\", response[\"answer\"])\n",
    "print(\"Источники:\", response[\"sources\"])"
   ]
  },
  {
   "cell_type": "code",
   "execution_count": null,
   "id": "221a41ad",
   "metadata": {},
   "outputs": [],
   "source": []
  }
 ],
 "metadata": {
  "kernelspec": {
   "display_name": "Python 3",
   "language": "python",
   "name": "python3"
  },
  "language_info": {
   "codemirror_mode": {
    "name": "ipython",
    "version": 3
   },
   "file_extension": ".py",
   "mimetype": "text/x-python",
   "name": "python",
   "nbconvert_exporter": "python",
   "pygments_lexer": "ipython3",
   "version": "3.9.9"
  }
 },
 "nbformat": 4,
 "nbformat_minor": 5
}
